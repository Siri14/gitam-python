{
 "cells": [
  {
   "cell_type": "code",
   "execution_count": 2,
   "metadata": {},
   "outputs": [
    {
     "name": "stdout",
     "output_type": "stream",
     "text": [
      "n1=10\n",
      "a=20,b=20,c=20\n"
     ]
    }
   ],
   "source": [
    "n1=10\n",
    "a=b=c=20\n",
    "print(\"n1=%d\"%n1)\n",
    "print(\"a=%d,b=%d,c=%d\"%(a,b,c))"
   ]
  },
  {
   "cell_type": "code",
   "execution_count": 3,
   "metadata": {},
   "outputs": [
    {
     "name": "stdout",
     "output_type": "stream",
     "text": [
      "100 python p 10.2\n",
      "<class 'int'> <class 'str'> <class 'str'> <class 'float'>\n"
     ]
    }
   ],
   "source": [
    "a=100\n",
    "s1='python'\n",
    "s2='p'\n",
    "f1=10.2\n",
    "print(a,s1,s2,f1)\n",
    "print(type(a),type(s1),type(s2),type(f1))"
   ]
  },
  {
   "cell_type": "code",
   "execution_count": 4,
   "metadata": {},
   "outputs": [
    {
     "ename": "SyntaxError",
     "evalue": "invalid syntax (<ipython-input-4-a1eb7d6e23e4>, line 5)",
     "output_type": "error",
     "traceback": [
      "\u001b[0;36m  File \u001b[0;32m\"<ipython-input-4-a1eb7d6e23e4>\"\u001b[0;36m, line \u001b[0;32m5\u001b[0m\n\u001b[0;31m    print(n1):\u001b[0m\n\u001b[0m              ^\u001b[0m\n\u001b[0;31mSyntaxError\u001b[0m\u001b[0;31m:\u001b[0m invalid syntax\n"
     ]
    }
   ],
   "source": [
    "n1=200\n",
    "n2=900\n",
    "a=b=c=d=300\n",
    "e=0\n",
    "print(n1):\n",
    "    "
   ]
  },
  {
   "cell_type": "code",
   "execution_count": 5,
   "metadata": {},
   "outputs": [
    {
     "name": "stdout",
     "output_type": "stream",
     "text": [
      "<class 'str'>\n"
     ]
    }
   ],
   "source": [
    "a=200\n",
    "s1=\"engineer\"\n",
    "print(type(s1))"
   ]
  },
  {
   "cell_type": "code",
   "execution_count": 1,
   "metadata": {},
   "outputs": [
    {
     "name": "stdout",
     "output_type": "stream",
     "text": [
      "<class 'int'>\n",
      "<class 'int'>\n",
      "<class 'int'>\n",
      "1\n"
     ]
    }
   ],
   "source": [
    "s1=100\n",
    "print(type(s1))\n",
    "a=int(s1)\n",
    "print(type(a))\n",
    "f=1.5\n",
    "a1=int(f)\n",
    "print(type(a1))\n",
    "print(a1)"
   ]
  },
  {
   "cell_type": "code",
   "execution_count": 2,
   "metadata": {},
   "outputs": [
    {
     "name": "stdout",
     "output_type": "stream",
     "text": [
      "4\n"
     ]
    }
   ],
   "source": [
    "#a number is given 1234\n",
    "#digit count\n",
    "a1=1234\n",
    "print(len(str(a1)))"
   ]
  },
  {
   "cell_type": "code",
   "execution_count": 3,
   "metadata": {},
   "outputs": [
    {
     "name": "stdout",
     "output_type": "stream",
     "text": [
      "enter your namesiri\n",
      "siri\n",
      "<class 'str'>\n"
     ]
    }
   ],
   "source": [
    "s1=input(\"enter your name\")\n",
    "print(s1)\n",
    "print(type(s1))"
   ]
  },
  {
   "cell_type": "code",
   "execution_count": 4,
   "metadata": {},
   "outputs": [
    {
     "name": "stdout",
     "output_type": "stream",
     "text": [
      "enter a number7\n",
      "7 <class 'int'>\n"
     ]
    }
   ],
   "source": [
    "# enter a number as a input\n",
    "n1=int(input(\"enter a number\"))\n",
    "print(n1,type(n1))\n"
   ]
  },
  {
   "cell_type": "code",
   "execution_count": 2,
   "metadata": {},
   "outputs": [
    {
     "name": "stdout",
     "output_type": "stream",
     "text": [
      "1244\n",
      "1224\n",
      "12340\n",
      "123.4\n",
      "1234\n",
      "4\n",
      "123\n",
      "8187505353567209228244052427776\n"
     ]
    }
   ],
   "source": [
    "n1=1234\n",
    "print(n1+10)\n",
    "print(n1-10)\n",
    "print(n1*10)\n",
    "print(n1/10)\n",
    "print(n1)\n",
    "print(n1%10)\n",
    "print(n1//10)\n",
    "print(n1**10)"
   ]
  },
  {
   "cell_type": "code",
   "execution_count": 3,
   "metadata": {},
   "outputs": [
    {
     "name": "stdout",
     "output_type": "stream",
     "text": [
      "30\n"
     ]
    }
   ],
   "source": [
    "print(10+20)"
   ]
  },
  {
   "cell_type": "code",
   "execution_count": 4,
   "metadata": {},
   "outputs": [
    {
     "name": "stdout",
     "output_type": "stream",
     "text": [
      "8.0\n"
     ]
    }
   ],
   "source": [
    "x=1+2**3/4+5\n",
    "print(x)\n"
   ]
  },
  {
   "cell_type": "code",
   "execution_count": 5,
   "metadata": {},
   "outputs": [
    {
     "name": "stdout",
     "output_type": "stream",
     "text": [
      "11.0\n"
     ]
    }
   ],
   "source": [
    "x=1+2**3/4*5\n",
    "print(x)"
   ]
  },
  {
   "cell_type": "markdown",
   "metadata": {},
   "source": [
    "### relational operators( true or false)\n",
    "1.==\n",
    "2.!=\n",
    "3.greater(>)\n",
    "4.less than(<)\n",
    "5.less than or equal to(<=)\n",
    "6.greater or equal to(>=)"
   ]
  },
  {
   "cell_type": "code",
   "execution_count": 6,
   "metadata": {},
   "outputs": [
    {
     "name": "stdout",
     "output_type": "stream",
     "text": [
      "612220032\n"
     ]
    }
   ],
   "source": [
    "a=7\n",
    "b=18\n",
    "print(b**a)"
   ]
  },
  {
   "cell_type": "code",
   "execution_count": 8,
   "metadata": {},
   "outputs": [
    {
     "name": "stdout",
     "output_type": "stream",
     "text": [
      "<class 'int'>\n"
     ]
    }
   ],
   "source": [
    "a=7\n",
    "b=4\n",
    "print(type(a))"
   ]
  },
  {
   "cell_type": "code",
   "execution_count": 9,
   "metadata": {},
   "outputs": [
    {
     "name": "stdout",
     "output_type": "stream",
     "text": [
      "False\n"
     ]
    }
   ],
   "source": [
    "x=10\n",
    "a1=x>15\n",
    "print(a1)\n"
   ]
  },
  {
   "cell_type": "markdown",
   "metadata": {},
   "source": [
    "## logical operators\n",
    "used to combine more than single condition\n",
    "1.and\n",
    "2.or\n",
    "3.not"
   ]
  },
  {
   "cell_type": "code",
   "execution_count": 11,
   "metadata": {},
   "outputs": [
    {
     "name": "stdout",
     "output_type": "stream",
     "text": [
      "True\n",
      "False\n"
     ]
    }
   ],
   "source": [
    "i=100\n",
    "a1=(i>15) and (i<800)\n",
    "a2=(i>15) and (i>800)\n",
    "print(a1)\n",
    "print(a2)"
   ]
  },
  {
   "cell_type": "markdown",
   "metadata": {},
   "source": [
    "### control flow statements\n",
    "1.condition statements\n",
    "2.looping statments\n",
    "###if-else statements\n",
    "\n",
    "syntax\n",
    "if boolean_condition:\n",
    "statements\n",
    "else:\n",
    "statements\n"
   ]
  },
  {
   "cell_type": "code",
   "execution_count": 12,
   "metadata": {},
   "outputs": [
    {
     "name": "stdout",
     "output_type": "stream",
     "text": [
      "enter a number7\n",
      "odd\n"
     ]
    }
   ],
   "source": [
    "# to check given number is even or odd\n",
    "n=int(input(\"enter a number\"))\n",
    "if n%2==0:\n",
    "    print(\"even\")\n",
    "else:\n",
    "    print(\"odd\")\n",
    "    "
   ]
  },
  {
   "cell_type": "code",
   "execution_count": 15,
   "metadata": {},
   "outputs": [
    {
     "name": "stdout",
     "output_type": "stream",
     "text": [
      "enter a number60\n",
      "yes\n"
     ]
    }
   ],
   "source": [
    "# to check the given number is perfectly multiple of 3 and 5\n",
    "n=int(input(\"enter a number\"))\n",
    "if n%3==0 and n%5==0:\n",
    "    print(\"yes\")\n",
    "else:\n",
    "    print(\"no\")"
   ]
  },
  {
   "cell_type": "code",
   "execution_count": 18,
   "metadata": {},
   "outputs": [
    {
     "name": "stdout",
     "output_type": "stream",
     "text": [
      "enter anumber7\n",
      "positive\n"
     ]
    }
   ],
   "source": [
    "# to check the given number is positive,negative or zero\n",
    "n=int(input(\"enter anumber\"))\n",
    "if n==0:\n",
    "    print(\"zero\")\n",
    "elif n>0:\n",
    "    print(\"positive\")\n",
    "elif n<0:\n",
    "    print(\"negative\")"
   ]
  },
  {
   "cell_type": "code",
   "execution_count": null,
   "metadata": {},
   "outputs": [],
   "source": []
  },
  {
   "cell_type": "code",
   "execution_count": null,
   "metadata": {},
   "outputs": [],
   "source": []
  }
 ],
 "metadata": {
  "kernelspec": {
   "display_name": "Python 3",
   "language": "python",
   "name": "python3"
  },
  "language_info": {
   "codemirror_mode": {
    "name": "ipython",
    "version": 3
   },
   "file_extension": ".py",
   "mimetype": "text/x-python",
   "name": "python",
   "nbconvert_exporter": "python",
   "pygments_lexer": "ipython3",
   "version": "3.7.3"
  }
 },
 "nbformat": 4,
 "nbformat_minor": 2
}
