{
 "cells": [
  {
   "cell_type": "markdown",
   "metadata": {},
   "source": [
    "### standard libraries\n",
    "~ file I/O\n",
    "~ regular expression\n",
    "~ datetime\n",
    "~ math(numerical and mathematical)"
   ]
  },
  {
   "cell_type": "markdown",
   "metadata": {},
   "source": [
    "### file handling in python\n",
    "~ file:-document containing information resides on the permanent storage\n",
    "~ different types of files:- txt,doc,pdf,csv and etc....\n",
    "~ input -- keyboard\n",
    "~ output -- file\n",
    "### modes of files I/O\n",
    "~ 'w' -- the mode is used to file writing\n",
    "      -- if the file is not present first it creats the file and writes the data into it\n",
    "      -- if the file is already present the it will rewrite the previous content"
   ]
  },
  {
   "cell_type": "code",
   "execution_count": 2,
   "metadata": {},
   "outputs": [
    {
     "name": "stdout",
     "output_type": "stream",
     "text": [
      "file is created and data has written\n"
     ]
    }
   ],
   "source": [
    "# function to create a file and write to the file\n",
    "def createfile(filename):\n",
    "    f=open(filename,'w')\n",
    "    for i in range(10):\n",
    "        f.write('this is %d line'%i)\n",
    "    print(\"file is created and data has written\")\n",
    "    return\n",
    "createfile('file.txt')"
   ]
  },
  {
   "cell_type": "code",
   "execution_count": 4,
   "metadata": {},
   "outputs": [
    {
     "name": "stdout",
     "output_type": "stream",
     "text": [
      " Volume in drive C has no label.\n",
      " Volume Serial Number is 92FC-9CFE\n",
      "\n",
      " Directory of C:\\Users\\258\n",
      "\n",
      "11-07-2019  09:37    <DIR>          .\n",
      "11-07-2019  09:37    <DIR>          ..\n",
      "08-05-2019  16:00    <DIR>          .anaconda\n",
      "14-03-2017  11:10               145 .appletviewer\n",
      "20-06-2019  03:58               167 .bash_history\n",
      "02-11-2017  14:49                 0 .cdtclient\n",
      "06-07-2019  09:21    <DIR>          .conda\n",
      "06-07-2019  09:16                43 .condarc\n",
      "11-07-2019  09:05    <DIR>          .ipynb_checkpoints\n",
      "08-05-2019  16:11    <DIR>          .ipython\n",
      "08-05-2019  19:42    <DIR>          .jupyter\n",
      "15-11-2018  15:05    <DIR>          .oracle_jre_usage\n",
      "08-07-2019  15:53            10,685 08-july-2019.ipynb\n",
      "10-07-2019  14:57            15,121 09-july-2019.ipynb\n",
      "10-07-2019  16:27            19,306 10-july-2019.ipynb\n",
      "11-07-2019  09:37             5,519 11-july-2019.ipynb\n",
      "08-05-2019  15:59    <DIR>          Anaconda3\n",
      "10-07-2019  16:57             5,967 assignment(10-july-2019).ipynb\n",
      "12-05-2019  16:49             1,261 cluster.ipynb\n",
      "08-05-2019  19:34    <DIR>          Contacts\n",
      "09-05-2019  21:29            12,425 Day4 problems.ipynb\n",
      "11-05-2019  19:51             6,699 day8.ipynb\n",
      "06-07-2019  15:40    <DIR>          Desktop\n",
      "03-07-2019  09:43    <DIR>          Documents\n",
      "05-07-2019  10:41    <DIR>          Downloads\n",
      "08-05-2019  19:34    <DIR>          Favorites\n",
      "11-07-2019  09:32               140 file.txt\n",
      "20-06-2019  01:55                15 file1.txt\n",
      "20-06-2019  02:04                19 file2.txt\n",
      "20-06-2019  01:44    <DIR>          Gitam-June-2019-221810306040\n",
      "14-03-2019  21:39    <DIR>          HiddenFormField1\n",
      "11-03-2019  15:08                 0 javac\n",
      "11-03-2019  15:06                 0 Jjavac\n",
      "08-05-2019  19:34    <DIR>          Links\n",
      "08-05-2019  19:34    <DIR>          Music\n",
      "08-05-2019  19:34    <DIR>          Pictures\n",
      "08-05-2019  19:34    <DIR>          Saved Games\n",
      "08-05-2019  19:34    <DIR>          Searches\n",
      "08-05-2019  21:30             1,676 templete.ipynb\n",
      "08-05-2019  16:11                72 Untitled.ipynb\n",
      "08-05-2019  20:40             2,629 Untitled1.ipynb\n",
      "27-06-2019  15:50             1,722 Untitled10.ipynb\n",
      "08-07-2019  14:47                72 Untitled11.ipynb\n",
      "08-07-2019  16:01               798 Untitled12.ipynb\n",
      "10-07-2019  09:00               555 Untitled13.ipynb\n",
      "08-05-2019  20:52               979 Untitled2.ipynb\n",
      "09-05-2019  16:30             3,815 Untitled3.ipynb\n",
      "10-05-2019  20:55             2,829 Untitled4.ipynb\n",
      "11-05-2019  20:16             1,754 Untitled5.ipynb\n",
      "25-06-2019  04:50            10,206 Untitled6.ipynb\n",
      "25-06-2019  23:31             5,010 Untitled7.ipynb\n",
      "26-06-2019  17:07            14,279 Untitled8.ipynb\n",
      "27-06-2019  14:08               555 Untitled9.ipynb\n",
      "08-05-2019  19:34    <DIR>          Videos\n",
      "28-12-2016  10:02    <DIR>          workspace\n",
      "              32 File(s)        124,463 bytes\n",
      "              23 Dir(s)  74,022,072,320 bytes free\n"
     ]
    }
   ],
   "source": [
    "ls"
   ]
  },
  {
   "cell_type": "code",
   "execution_count": 8,
   "metadata": {},
   "outputs": [
    {
     "name": "stdout",
     "output_type": "stream",
     "text": [
      "testing--\n",
      "\n",
      "file is created and data has written\n"
     ]
    }
   ],
   "source": [
    "def createfile(filename):\n",
    "    f=open(filename,'w')\n",
    "    print('testing--\\n')\n",
    "    print(\"file is created and data has written\")\n",
    "    return\n",
    "createfile('file.txt')"
   ]
  },
  {
   "cell_type": "code",
   "execution_count": 11,
   "metadata": {},
   "outputs": [
    {
     "name": "stdout",
     "output_type": "stream",
     "text": [
      "file is created and data has written\n"
     ]
    }
   ],
   "source": [
    "def createfile(filename):\n",
    "    f=open(filename,'w')\n",
    "    f.write('testing--\\n')\n",
    "    print(\"file is created and data has written\")\n",
    "    return\n",
    "createfile('file.txt')"
   ]
  },
  {
   "cell_type": "code",
   "execution_count": 15,
   "metadata": {},
   "outputs": [
    {
     "name": "stdout",
     "output_type": "stream",
     "text": [
      "This is 0 line\n",
      "This is 1 line\n",
      "This is 2 line\n",
      "This is 3 line\n",
      "This is 4 line\n",
      "This is 5 line\n",
      "This is 6 line\n",
      "This is 7 line\n",
      "This is 8 line\n",
      "This is 9 line\n",
      "file crreated and successfully data written\n"
     ]
    }
   ],
   "source": [
    "def appenddata(filename):\n",
    "    f=open(filename,'a')\n",
    "    for i in range(10):\n",
    "        print('This is %d line'%i)\n",
    "    print('file crreated and successfully data written')\n",
    "    return\n",
    "appenddata('file2.txt')"
   ]
  },
  {
   "cell_type": "code",
   "execution_count": 18,
   "metadata": {},
   "outputs": [
    {
     "name": "stdout",
     "output_type": "stream",
     "text": [
      "file crreated and successfully data written\n"
     ]
    }
   ],
   "source": [
    "def appenddata(filename):\n",
    "    f=open(filename,'a')\n",
    "    f.write(\"New line1 \\n\")\n",
    "    f.write(\"New line2 \\n\")\n",
    "    print('file crreated and successfully data written')\n",
    "    return\n",
    "appenddata('file2.txt')"
   ]
  },
  {
   "cell_type": "code",
   "execution_count": 23,
   "metadata": {},
   "outputs": [
    {
     "name": "stdout",
     "output_type": "stream",
     "text": [
      "hello gudafteenoon\n",
      "new line1 \n",
      "new line2 \n",
      "new line1 \n",
      "new line2 \n",
      "New line1 \n",
      "New line2 \n",
      "\n"
     ]
    }
   ],
   "source": [
    "#function to read the file data\n",
    "def readfiledata(filename):\n",
    "    f=open(filename,'r')\n",
    "    if f.mode=='r':\n",
    "        x=f.read()\n",
    "        print(x)\n",
    "    f.close()\n",
    "    return\n",
    "readfiledata('file2.txt')"
   ]
  },
  {
   "cell_type": "code",
   "execution_count": 24,
   "metadata": {},
   "outputs": [
    {
     "name": "stdout",
     "output_type": "stream",
     "text": [
      "enter the filenamefile2.txt\n",
      "enter the mode of the filer\n",
      "hello gudafteenoon\n",
      "new line1 \n",
      "new line2 \n",
      "new line1 \n",
      "new line2 \n",
      "New line1 \n",
      "New line2 \n",
      "\n"
     ]
    }
   ],
   "source": [
    "#function to read the file data\n",
    "def fileoperations2(filename,mode):\n",
    "    with open(filename,mode) as f:\n",
    "        if f.mode=='r':\n",
    "            data=f.read()\n",
    "            print(data)\n",
    "        elif f.mode=='a':\n",
    "            f.write('data to the file')\n",
    "            print('the data successfully written')\n",
    "    f.close()\n",
    "    return\n",
    "filename=input('enter the filename')\n",
    "mode=input('enter the mode of the file')\n",
    "fileoperations2(filename,mode)"
   ]
  },
  {
   "cell_type": "code",
   "execution_count": 33,
   "metadata": {},
   "outputs": [
    {
     "name": "stdout",
     "output_type": "stream",
     "text": [
      "enter the filename:file2.txt\n",
      "enter the word:new\n"
     ]
    },
    {
     "data": {
      "text/plain": [
       "4"
      ]
     },
     "execution_count": 33,
     "metadata": {},
     "output_type": "execute_result"
    }
   ],
   "source": [
    "#data analysis\n",
    "#word count program\n",
    "def wordcount(filename,word):\n",
    "    with open(filename,'r') as f:\n",
    "        if f.mode=='r':\n",
    "            x=f.read()\n",
    "            li=x.split() #it splits the string\n",
    "    cnt = li.count(word)        \n",
    "    return cnt\n",
    "filename=input(\"enter the filename:\")\n",
    "word=input(\"enter the word:\")\n",
    "wordcount(filename,word) "
   ]
  },
  {
   "cell_type": "code",
   "execution_count": 34,
   "metadata": {},
   "outputs": [
    {
     "name": "stdout",
     "output_type": "stream",
     "text": [
      "enter the filenamefile2.txt\n"
     ]
    },
    {
     "data": {
      "text/plain": [
       "63"
      ]
     },
     "execution_count": 34,
     "metadata": {},
     "output_type": "execute_result"
    }
   ],
   "source": [
    "#character count from the given file\n",
    "def charactercount(filename):\n",
    "    with open(filename,'r') as f:\n",
    "         if f.mode=='r':\n",
    "            x=f.read()\n",
    "            li=list(x)#convert the string -char\n",
    "    return len(li)\n",
    "filename=input(\"enter the filename\")\n",
    "charactercount(filename)"
   ]
  },
  {
   "cell_type": "code",
   "execution_count": 35,
   "metadata": {},
   "outputs": [
    {
     "name": "stdout",
     "output_type": "stream",
     "text": [
      "['python progr', 'mming']\n"
     ]
    }
   ],
   "source": [
    "s1=\"python programming\"\n",
    "print(s1.split('a'))"
   ]
  },
  {
   "cell_type": "code",
   "execution_count": 4,
   "metadata": {},
   "outputs": [
    {
     "name": "stdout",
     "output_type": "stream",
     "text": [
      "enter the filename:file2.txt\n"
     ]
    },
    {
     "data": {
      "text/plain": [
       "6"
      ]
     },
     "execution_count": 4,
     "metadata": {},
     "output_type": "execute_result"
    }
   ],
   "source": [
    "#function to find the no of lines in the input \n",
    "def countoflines(filename):\n",
    "    with open(filename,'r') as f:\n",
    "        if f.mode=='r':\n",
    "            x=f.read()\n",
    "            li=x.split(\"\\n\")\n",
    "    return len(li)\n",
    "filename=input('enter the filename:')\n",
    "countoflines(filename)"
   ]
  },
  {
   "cell_type": "code",
   "execution_count": 19,
   "metadata": {},
   "outputs": [
    {
     "name": "stdout",
     "output_type": "stream",
     "text": [
      "enter the filename:file2.txt\n"
     ]
    },
    {
     "data": {
      "text/plain": [
       "'uppercase=2,lowercase=57'"
      ]
     },
     "execution_count": 19,
     "metadata": {},
     "output_type": "execute_result"
    }
   ],
   "source": [
    "#function to print upper and lower characters\n",
    "def casecount(filename):\n",
    "    cntupper=0\n",
    "    cntlower=0\n",
    "    with open(filename,'r') as f:\n",
    "        if f.mode=='r':\n",
    "            x=f.read()\n",
    "            li=list(x)\n",
    "    for i in li:\n",
    "        if i.isupper():\n",
    "            cntupper+=1\n",
    "        elif i.islower():\n",
    "            cntlower+=1\n",
    "    output='uppercase={0},lowercase={1}'.format(cntupper,cntlower)\n",
    "    return output\n",
    "filename=input('enter the filename:')\n",
    "casecount(filename)"
   ]
  },
  {
   "cell_type": "markdown",
   "metadata": {},
   "source": [
    "### math,random,os\n",
    "~ os packageit contains the certain methods which works with os\n",
    "old version python -->os.listdr\n",
    "new version python -->os.scandir and pathlib.path()"
   ]
  },
  {
   "cell_type": "code",
   "execution_count": 20,
   "metadata": {
    "scrolled": false
   },
   "outputs": [
    {
     "name": "stdout",
     "output_type": "stream",
     "text": [
      " Volume in drive C has no label.\n",
      " Volume Serial Number is 92FC-9CFE\n",
      "\n",
      " Directory of C:\\Users\\258\n",
      "\n",
      "11-07-2019  12:29    <DIR>          .\n",
      "11-07-2019  12:29    <DIR>          ..\n",
      "08-05-2019  16:00    <DIR>          .anaconda\n",
      "14-03-2017  11:10               145 .appletviewer\n",
      "20-06-2019  03:58               167 .bash_history\n",
      "02-11-2017  14:49                 0 .cdtclient\n",
      "06-07-2019  09:21    <DIR>          .conda\n",
      "06-07-2019  09:16                43 .condarc\n",
      "11-07-2019  11:05    <DIR>          .ipynb_checkpoints\n",
      "08-05-2019  16:11    <DIR>          .ipython\n",
      "08-05-2019  19:42    <DIR>          .jupyter\n",
      "15-11-2018  15:05    <DIR>          .oracle_jre_usage\n",
      "08-07-2019  15:53            10,685 08-july-2019.ipynb\n",
      "10-07-2019  14:57            15,121 09-july-2019.ipynb\n",
      "10-07-2019  16:27            19,306 10-july-2019.ipynb\n",
      "11-07-2019  12:29            13,503 11-july-2019.ipynb\n",
      "08-05-2019  15:59    <DIR>          Anaconda3\n",
      "10-07-2019  16:57             5,967 assignment(10-july-2019).ipynb\n",
      "12-05-2019  16:49             1,261 cluster.ipynb\n",
      "08-05-2019  19:34    <DIR>          Contacts\n",
      "09-05-2019  21:29            12,425 Day4 problems.ipynb\n",
      "11-05-2019  19:51             6,699 day8.ipynb\n",
      "06-07-2019  15:40    <DIR>          Desktop\n",
      "03-07-2019  09:43    <DIR>          Documents\n",
      "05-07-2019  10:41    <DIR>          Downloads\n",
      "08-05-2019  19:34    <DIR>          Favorites\n",
      "11-07-2019  09:53                11 file.txt\n",
      "20-06-2019  01:55                15 file1.txt\n",
      "11-07-2019  12:18                91 file2.txt\n",
      "20-06-2019  01:44    <DIR>          Gitam-June-2019-221810306040\n",
      "14-03-2019  21:39    <DIR>          HiddenFormField1\n",
      "11-03-2019  15:08                 0 javac\n",
      "11-03-2019  15:06                 0 Jjavac\n",
      "08-05-2019  19:34    <DIR>          Links\n",
      "08-05-2019  19:34    <DIR>          Music\n",
      "08-05-2019  19:34    <DIR>          Pictures\n",
      "08-05-2019  19:34    <DIR>          Saved Games\n",
      "08-05-2019  19:34    <DIR>          Searches\n",
      "08-05-2019  21:30             1,676 templete.ipynb\n",
      "08-05-2019  16:11                72 Untitled.ipynb\n",
      "08-05-2019  20:40             2,629 Untitled1.ipynb\n",
      "27-06-2019  15:50             1,722 Untitled10.ipynb\n",
      "08-07-2019  14:47                72 Untitled11.ipynb\n",
      "08-07-2019  16:01               798 Untitled12.ipynb\n",
      "10-07-2019  09:00               555 Untitled13.ipynb\n",
      "11-07-2019  11:07               877 Untitled14.ipynb\n",
      "08-05-2019  20:52               979 Untitled2.ipynb\n",
      "09-05-2019  16:30             3,815 Untitled3.ipynb\n",
      "10-05-2019  20:55             2,829 Untitled4.ipynb\n",
      "11-05-2019  20:16             1,754 Untitled5.ipynb\n",
      "25-06-2019  04:50            10,206 Untitled6.ipynb\n",
      "25-06-2019  23:31             5,010 Untitled7.ipynb\n",
      "26-06-2019  17:07            14,279 Untitled8.ipynb\n",
      "27-06-2019  14:08               555 Untitled9.ipynb\n",
      "08-05-2019  19:34    <DIR>          Videos\n",
      "28-12-2016  10:02    <DIR>          workspace\n",
      "              33 File(s)        133,267 bytes\n",
      "              23 Dir(s)  73,800,839,168 bytes free\n"
     ]
    }
   ],
   "source": [
    "ls"
   ]
  },
  {
   "cell_type": "code",
   "execution_count": 26,
   "metadata": {},
   "outputs": [
    {
     "data": {
      "text/plain": [
       "'C:\\\\Users\\\\258'"
      ]
     },
     "execution_count": 26,
     "metadata": {},
     "output_type": "execute_result"
    }
   ],
   "source": [
    "pwd"
   ]
  },
  {
   "cell_type": "markdown",
   "metadata": {},
   "source": [
    "### creating a single directory"
   ]
  },
  {
   "cell_type": "code",
   "execution_count": null,
   "metadata": {
    "collapsed": true
   },
   "outputs": [],
   "source": [
    "os.mkdir('singledirectory')"
   ]
  },
  {
   "cell_type": "code",
   "execution_count": 45,
   "metadata": {},
   "outputs": [],
   "source": [
    "import pathlib\n",
    "p=pathlib.Path('gitam-python')\n",
    "p.mkdir()"
   ]
  },
  {
   "cell_type": "code",
   "execution_count": 38,
   "metadata": {},
   "outputs": [
    {
     "data": {
      "text/plain": [
       "'C:\\\\Users\\\\258'"
      ]
     },
     "execution_count": 38,
     "metadata": {},
     "output_type": "execute_result"
    }
   ],
   "source": [
    "pwd"
   ]
  },
  {
   "cell_type": "code",
   "execution_count": 39,
   "metadata": {},
   "outputs": [
    {
     "name": "stdout",
     "output_type": "stream",
     "text": [
      " Volume in drive C has no label.\n",
      " Volume Serial Number is 92FC-9CFE\n",
      "\n",
      " Directory of C:\\Users\\258\n",
      "\n",
      "11-07-2019  14:47    <DIR>          .\n",
      "11-07-2019  14:47    <DIR>          ..\n",
      "08-05-2019  16:00    <DIR>          .anaconda\n",
      "14-03-2017  11:10               145 .appletviewer\n",
      "20-06-2019  03:58               167 .bash_history\n",
      "02-11-2017  14:49                 0 .cdtclient\n",
      "06-07-2019  09:21    <DIR>          .conda\n",
      "06-07-2019  09:16                43 .condarc\n",
      "11-07-2019  11:05    <DIR>          .ipynb_checkpoints\n",
      "08-05-2019  16:11    <DIR>          .ipython\n",
      "08-05-2019  19:42    <DIR>          .jupyter\n",
      "15-11-2018  15:05    <DIR>          .oracle_jre_usage\n",
      "08-07-2019  15:53            10,685 08-july-2019.ipynb\n",
      "10-07-2019  14:57            15,121 09-july-2019.ipynb\n",
      "10-07-2019  16:27            19,306 10-july-2019.ipynb\n",
      "11-07-2019  14:47            19,414 11-july-2019.ipynb\n",
      "08-05-2019  15:59    <DIR>          Anaconda3\n",
      "10-07-2019  16:57             5,967 assignment(10-july-2019).ipynb\n",
      "12-05-2019  16:49             1,261 cluster.ipynb\n",
      "08-05-2019  19:34    <DIR>          Contacts\n",
      "09-05-2019  21:29            12,425 Day4 problems.ipynb\n",
      "11-05-2019  19:51             6,699 day8.ipynb\n",
      "06-07-2019  15:40    <DIR>          Desktop\n",
      "03-07-2019  09:43    <DIR>          Documents\n",
      "05-07-2019  10:41    <DIR>          Downloads\n",
      "08-05-2019  19:34    <DIR>          Favorites\n",
      "11-07-2019  09:53                11 file.txt\n",
      "20-06-2019  01:55                15 file1.txt\n",
      "11-07-2019  12:18                91 file2.txt\n",
      "20-06-2019  01:44    <DIR>          Gitam-June-2019-221810306040\n",
      "14-03-2019  21:39    <DIR>          HiddenFormField1\n",
      "11-03-2019  15:08                 0 javac\n",
      "11-03-2019  15:06                 0 Jjavac\n",
      "08-05-2019  19:34    <DIR>          Links\n",
      "08-05-2019  19:34    <DIR>          Music\n",
      "08-05-2019  19:34    <DIR>          Pictures\n",
      "08-05-2019  19:34    <DIR>          Saved Games\n",
      "08-05-2019  19:34    <DIR>          Searches\n",
      "11-07-2019  14:45    <DIR>          singledirectory\n",
      "08-05-2019  21:30             1,676 templete.ipynb\n",
      "11-07-2019  14:47    <DIR>          test folder\n",
      "11-07-2019  14:47    <DIR>          testfolder\n",
      "08-05-2019  16:11                72 Untitled.ipynb\n",
      "08-05-2019  20:40             2,629 Untitled1.ipynb\n",
      "27-06-2019  15:50             1,722 Untitled10.ipynb\n",
      "08-07-2019  14:47                72 Untitled11.ipynb\n",
      "08-07-2019  16:01               798 Untitled12.ipynb\n",
      "10-07-2019  09:00               555 Untitled13.ipynb\n",
      "11-07-2019  11:07               877 Untitled14.ipynb\n",
      "08-05-2019  20:52               979 Untitled2.ipynb\n",
      "09-05-2019  16:30             3,815 Untitled3.ipynb\n",
      "10-05-2019  20:55             2,829 Untitled4.ipynb\n",
      "11-05-2019  20:16             1,754 Untitled5.ipynb\n",
      "25-06-2019  04:50            10,206 Untitled6.ipynb\n",
      "25-06-2019  23:31             5,010 Untitled7.ipynb\n",
      "26-06-2019  17:07            14,279 Untitled8.ipynb\n",
      "27-06-2019  14:08               555 Untitled9.ipynb\n",
      "08-05-2019  19:34    <DIR>          Videos\n",
      "28-12-2016  10:02    <DIR>          workspace\n",
      "              33 File(s)        139,178 bytes\n",
      "              26 Dir(s)  73,792,458,752 bytes free\n"
     ]
    }
   ],
   "source": [
    "ls"
   ]
  },
  {
   "cell_type": "code",
   "execution_count": 44,
   "metadata": {},
   "outputs": [
    {
     "name": "stdout",
     "output_type": "stream",
     "text": [
      "C:\\Users\\258\\git\n"
     ]
    }
   ],
   "source": [
    "cd git"
   ]
  },
  {
   "cell_type": "code",
   "execution_count": 46,
   "metadata": {},
   "outputs": [
    {
     "name": "stdout",
     "output_type": "stream",
     "text": [
      "C:\\Users\\258\\git\\gitam-python\n"
     ]
    }
   ],
   "source": [
    "cd gitam-python"
   ]
  },
  {
   "cell_type": "code",
   "execution_count": 47,
   "metadata": {},
   "outputs": [
    {
     "data": {
      "text/plain": [
       "'C:\\\\Users\\\\258\\\\git\\\\gitam-python'"
      ]
     },
     "execution_count": 47,
     "metadata": {},
     "output_type": "execute_result"
    }
   ],
   "source": [
    "pwd"
   ]
  },
  {
   "cell_type": "code",
   "execution_count": 48,
   "metadata": {},
   "outputs": [
    {
     "name": "stdout",
     "output_type": "stream",
     "text": [
      " Volume in drive C has no label.\n",
      " Volume Serial Number is 92FC-9CFE\n",
      "\n",
      " Directory of C:\\Users\\258\\git\\gitam-python\n",
      "\n",
      "11-07-2019  14:53    <DIR>          .\n",
      "11-07-2019  14:53    <DIR>          ..\n",
      "               0 File(s)              0 bytes\n",
      "               2 Dir(s)  73,791,864,832 bytes free\n"
     ]
    }
   ],
   "source": [
    " ls"
   ]
  },
  {
   "cell_type": "markdown",
   "metadata": {},
   "source": [
    "### filename pattern matching"
   ]
  },
  {
   "cell_type": "code",
   "execution_count": null,
   "metadata": {},
   "outputs": [],
   "source": [
    "import os\n",
    "dirpath='git/'\n",
    "for f_name in os.listdir(dirpath):\n",
    "    if f_name.startswith('0'):\n",
    "        print(f_name)"
   ]
  },
  {
   "cell_type": "markdown",
   "metadata": {},
   "source": [
    "### deleting files and directories"
   ]
  },
  {
   "cell_type": "code",
   "execution_count": null,
   "metadata": {},
   "outputs": [],
   "source": [
    "import os\n",
    "data_file='file.txt'#gives the entire path\n",
    "os.remove(dat_file)"
   ]
  },
  {
   "cell_type": "code",
   "execution_count": null,
   "metadata": {},
   "outputs": [],
   "source": [
    "import shuitl#delete the tree of strucutre of folder\n",
    "data_dir='2019'\n",
    "shutil.return(dat_dir)"
   ]
  },
  {
   "cell_type": "markdown",
   "metadata": {},
   "source": [
    "### regular expressions\n",
    "! used to specific pattern matching\n",
    "! symbolic notations of pattern\n",
    "  pattern(RE):-respresents set of elements\n",
    "[0-9]: any digits"
   ]
  }
 ],
 "metadata": {
  "kernelspec": {
   "display_name": "Python 3",
   "language": "python",
   "name": "python3"
  },
  "language_info": {
   "codemirror_mode": {
    "name": "ipython",
    "version": 3
   },
   "file_extension": ".py",
   "mimetype": "text/x-python",
   "name": "python",
   "nbconvert_exporter": "python",
   "pygments_lexer": "ipython3",
   "version": "3.7.3"
  }
 },
 "nbformat": 4,
 "nbformat_minor": 2
}
