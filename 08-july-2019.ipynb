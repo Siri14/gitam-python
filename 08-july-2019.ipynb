{
 "cells": [
  {
   "cell_type": "code",
   "execution_count": 1,
   "metadata": {},
   "outputs": [
    {
     "name": "stdout",
     "output_type": "stream",
     "text": [
      "1 2 5 10 "
     ]
    }
   ],
   "source": [
    "# factors of the given number\n",
    "def factorslist(n):\n",
    "    for x in range(1,n+1):\n",
    "        if n%x==0:\n",
    "            print(x,end=\" \")\n",
    "    return\n",
    "factorslist(10)"
   ]
  },
  {
   "cell_type": "code",
   "execution_count": 2,
   "metadata": {},
   "outputs": [
    {
     "data": {
      "text/plain": [
       "True"
      ]
     },
     "execution_count": 2,
     "metadata": {},
     "output_type": "execute_result"
    }
   ],
   "source": [
    "# check the bgiven is prime or not\n",
    "def isprime(n):\n",
    "    flag=True\n",
    "    for x in range(2,n//2+1):\n",
    "        if n%x==0:\n",
    "            flag = False\n",
    "            return flag\n",
    "    return flag\n",
    "isprime(7)"
   ]
  },
  {
   "cell_type": "code",
   "execution_count": 10,
   "metadata": {},
   "outputs": [
    {
     "data": {
      "text/plain": [
       "8"
      ]
     },
     "execution_count": 10,
     "metadata": {},
     "output_type": "execute_result"
    }
   ],
   "source": [
    "# function to find prime numbers count from 1 to n\n",
    "#10 -- 4(2,3,5,7)\n",
    "def primecount(n):\n",
    "    cnt=0\n",
    "    for a in range(2,n+1):\n",
    "        k=0\n",
    "        for i in range(2,a//2+1):\n",
    "            if a%i==0:\n",
    "                k=k+1\n",
    "        if(k<=0):\n",
    "                cnt=cnt+1\n",
    "    return cnt\n",
    "primecount(20)"
   ]
  },
  {
   "cell_type": "code",
   "execution_count": 16,
   "metadata": {},
   "outputs": [
    {
     "data": {
      "text/plain": [
       "'no'"
      ]
     },
     "execution_count": 16,
     "metadata": {},
     "output_type": "execute_result"
    }
   ],
   "source": [
    "# individual digit factorial is same as origtinal number\n",
    "def factorial(n):\n",
    "    fact=1\n",
    "    for i in range(2,n+1):\n",
    "        fact*=i\n",
    "    return fact\n",
    "def digitfactsum(n):\n",
    "    sum=0\n",
    "    buffer=n\n",
    "    while n!=0:\n",
    "        r=n%10\n",
    "        sum+=factorial(r)\n",
    "        n=n//10\n",
    "    if sum==buffer:\n",
    "        return \"yes\"\n",
    "    else:\n",
    "        return \"no\"\n",
    "digitfactsum(345)"
   ]
  },
  {
   "cell_type": "code",
   "execution_count": 21,
   "metadata": {},
   "outputs": [
    {
     "data": {
      "text/plain": [
       "18"
      ]
     },
     "execution_count": 21,
     "metadata": {},
     "output_type": "execute_result"
    }
   ],
   "source": [
    "# function to return the count of palindrome number\n",
    "def ispalindrome(n):\n",
    "    rev=0\n",
    "    buffer=n\n",
    "    while n!=0:\n",
    "        r=n%10\n",
    "        rev=rev*10+r\n",
    "        n=n//10\n",
    "    if rev==buffer:\n",
    "        return True\n",
    "    else:\n",
    "        return False\n",
    "    return\n",
    "def countpalindrome(lb,ub):\n",
    "    cnt=0\n",
    "    while lb!=ub:\n",
    "        if ispalindrome(lb)==True:\n",
    "            cnt =cnt+1\n",
    "        lb=lb+1\n",
    "    return cnt\n",
    "countpalindrome(1,100)"
   ]
  },
  {
   "cell_type": "code",
   "execution_count": 31,
   "metadata": {},
   "outputs": [
    {
     "name": "stdout",
     "output_type": "stream",
     "text": [
      "6 28 \n"
     ]
    }
   ],
   "source": [
    "#function to generate the perfect number in the given range\n",
    "def factorslist(n):\n",
    "    sum=0\n",
    "    for i in range(1,n//2+1):\n",
    "        if n%i==0:\n",
    "            sum=sum+i\n",
    "    return sum\n",
    "def isperfect(n):\n",
    "    if factorslist(n)==n:\n",
    "        return True\n",
    "    else:\n",
    "        return False\n",
    "def generateperfect(lb,ub):\n",
    "    for x in range(lb,ub+1):\n",
    "        if isperfect(x):\n",
    "            print(x,end=\" \")\n",
    "    print()\n",
    "    return\n",
    "generateperfect(1,100) "
   ]
  },
  {
   "cell_type": "code",
   "execution_count": 2,
   "metadata": {},
   "outputs": [
    {
     "name": "stdout",
     "output_type": "stream",
     "text": [
      "p\n",
      "py\n",
      "n\n",
      "py\n",
      "thon\n",
      "hon\n",
      "ytho\n",
      "h\n"
     ]
    }
   ],
   "source": [
    "s1=\"python\"\n",
    "print(s1[0])\n",
    "print(s1[0:2])\n",
    "print(s1[-1])\n",
    "print(s1[:2])\n",
    "print(s1[2:])\n",
    "print(s1[-3:])\n",
    "print(s1[1:-1])\n",
    "print(s1[len(s1)//2])"
   ]
  },
  {
   "cell_type": "code",
   "execution_count": 7,
   "metadata": {},
   "outputs": [
    {
     "name": "stdout",
     "output_type": "stream",
     "text": [
      "p\n",
      "py\n",
      "n\n",
      "py\n",
      "thon\n",
      "hon\n",
      "ytho\n",
      "h\n",
      "no\n",
      "pto\n",
      "ph\n",
      "nohtyp\n"
     ]
    }
   ],
   "source": [
    "s1=\"python\"\n",
    "print(s1[0])\n",
    "print(s1[0:2])\n",
    "print(s1[-1])\n",
    "print(s1[:2])\n",
    "print(s1[2:])\n",
    "print(s1[-3:])\n",
    "print(s1[1:-1])\n",
    "print(s1[len(s1)//2])#middle of the string\n",
    "print(s1[-1:-3:-1])#access the last two characters\n",
    "print(s1[::2])#alternate two characters\n",
    "print(s1[::3])#alternate 3 characters\n",
    "print(s1[::-1])#reverse order"
   ]
  },
  {
   "cell_type": "code",
   "execution_count": 6,
   "metadata": {},
   "outputs": [
    {
     "name": "stdout",
     "output_type": "stream",
     "text": [
      "P T "
     ]
    }
   ],
   "source": [
    "#A-Z:65-90\n",
    "#a-z:97-122\n",
    "#0-9:48-57\n",
    "#space:32\n",
    "def printupper(x):\n",
    "    for i in range(len(x)):\n",
    "        if ord(x[i])>=65 and ord(x[i])<=90:\n",
    "            print(x[i],end=\" \")\n",
    "    return\n",
    "printupper(\"PyThon\")"
   ]
  },
  {
   "cell_type": "code",
   "execution_count": 22,
   "metadata": {},
   "outputs": [
    {
     "name": "stdout",
     "output_type": "stream",
     "text": [
      "samecount\n"
     ]
    }
   ],
   "source": [
    "def findcount(x):\n",
    "    cntupper=0\n",
    "    cntlower=0\n",
    "    for i in range(len(x)):\n",
    "        if ord(x[i])>=65 and ord(x[i])<=90:\n",
    "            cntupper=cntupper+1\n",
    "        elif ord(x[i])>=97 and ord(x[i])<=122:\n",
    "            cntlower=cntlower+1\n",
    "    if cntupper==cntlower:\n",
    "        return \"samecount\"\n",
    "    else:\n",
    "        return\"programming\"\n",
    "    return\n",
    "print(findcount(\"PyThOn\"))\n",
    "#print(findcount(\"pyTHon\"))"
   ]
  },
  {
   "cell_type": "code",
   "execution_count": 18,
   "metadata": {},
   "outputs": [
    {
     "name": "stdout",
     "output_type": "stream",
     "text": [
      "samecount\n",
      "programming\n"
     ]
    }
   ],
   "source": [
    "def findcount(x):\n",
    "    cntupper=0\n",
    "    cntlower=0\n",
    "    for i in range(len(x)):\n",
    "        if ord(x[i])>=65 and ord(x[i])<=90:\n",
    "            cntupper=cntupper+1\n",
    "        elif ord(x[i])>=97 and ord(x[i])<=122:\n",
    "            cntlower=cntlower+1\n",
    "    if cntupper==cntlower:\n",
    "        return \"samecount\"\n",
    "    else:\n",
    "        return\"programming\"\n",
    "    return\n",
    "print(findcount(\"PyThOn\"))\n",
    "print(findcount(\"pyTHon\"))"
   ]
  },
  {
   "cell_type": "code",
   "execution_count": 20,
   "metadata": {},
   "outputs": [
    {
     "name": "stdout",
     "output_type": "stream",
     "text": [
      "2 0 1 9 "
     ]
    }
   ],
   "source": [
    "#extract digits from the given string\n",
    "def isdigit(x):\n",
    "    for i in range(len(x)):\n",
    "        if ord(x[i])>=48 and ord(x[i])<=57:\n",
    "            print(x[i],end=\" \")\n",
    "    return\n",
    "isdigit(\"gitam2019\")"
   ]
  },
  {
   "cell_type": "code",
   "execution_count": 21,
   "metadata": {},
   "outputs": [
    {
     "name": "stdout",
     "output_type": "stream",
     "text": [
      "2 0 1 9 "
     ]
    },
    {
     "data": {
      "text/plain": [
       "12"
      ]
     },
     "execution_count": 21,
     "metadata": {},
     "output_type": "execute_result"
    }
   ],
   "source": [
    "#retuen the sum of digits in the given string\n",
    "def isdigit(x):\n",
    "    sum=0\n",
    "    for i in range(len(x)):\n",
    "        if ord(x[i])>=48 and ord(x[i])<=57:\n",
    "            print(x[i],end=\" \")\n",
    "            sum=sum+(ord(x[i])-48)\n",
    "    return sum\n",
    "isdigit(\"gitam2019\")"
   ]
  },
  {
   "cell_type": "code",
   "execution_count": 25,
   "metadata": {},
   "outputs": [
    {
     "data": {
      "text/plain": [
       "12"
      ]
     },
     "execution_count": 25,
     "metadata": {},
     "output_type": "execute_result"
    }
   ],
   "source": [
    "def sumofevendigits(x):\n",
    "    sum=0\n",
    "    for i in range(len(x)):\n",
    "        if ord(x[i])>=48 and ord(x[i])<=57:\n",
    "            if(ord(x[i])-48)%2==0:\n",
    "                sum=sum+(ord(x[i])-48)\n",
    "    return sum\n",
    "sumofevendigits(\"eng1neer22018\")"
   ]
  },
  {
   "cell_type": "code",
   "execution_count": 26,
   "metadata": {},
   "outputs": [
    {
     "name": "stdout",
     "output_type": "stream",
     "text": [
      "P Y T H O N "
     ]
    }
   ],
   "source": [
    "def worduppercase(s):\n",
    "    spacecnt = 0\n",
    "    for x in range(len(s)):\n",
    "        if ord(s[x])==32:\n",
    "            spacecnt+=1\n",
    "        if spacecnt==1:\n",
    "            if ord(s[x])>=65 and ord(s[x])<=90:\n",
    "                print(s[x],end=\" \")\n",
    "            elif ord(s[x])>=97 and ord(s[x])<=122:\n",
    "                print(chr(ord(s[x])-32),end=\" \")\n",
    "        if spacecnt==2:\n",
    "            break\n",
    "    return\n",
    "worduppercase('learining python programming')#python"
   ]
  },
  {
   "cell_type": "code",
   "execution_count": null,
   "metadata": {},
   "outputs": [],
   "source": []
  }
 ],
 "metadata": {
  "kernelspec": {
   "display_name": "Python 3",
   "language": "python",
   "name": "python3"
  },
  "language_info": {
   "codemirror_mode": {
    "name": "ipython",
    "version": 3
   },
   "file_extension": ".py",
   "mimetype": "text/x-python",
   "name": "python",
   "nbconvert_exporter": "python",
   "pygments_lexer": "ipython3",
   "version": "3.7.3"
  }
 },
 "nbformat": 4,
 "nbformat_minor": 2
}
