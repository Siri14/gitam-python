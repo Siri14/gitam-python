{
 "cells": [
  {
   "cell_type": "markdown",
   "metadata": {},
   "source": [
    "### day objectives\n",
    "~ python data structures\n",
    "  1.lists\n",
    "  2.tuples\n",
    "  3.dictionaries\n",
    "~basic program on data structures\n",
    "~advanced problem set\n",
    "~contact application(dictioanry object)\n",
    "\n",
    "### data structure:\n",
    "    1.to share search and sort the data"
   ]
  },
  {
   "cell_type": "markdown",
   "metadata": {},
   "source": [
    "### python data structres\n",
    "### lists\n",
    "~it is the one of the data structre supports by python,the lists items are separated by comma operator and enclosed in square brackets\n",
    "   ~example:\n",
    "     1.list 1:[1,6,2,18,9]\n",
    "     2.list 2:[\"gitam\",10,12,15.5,\"hyderabad\"]"
   ]
  },
  {
   "cell_type": "code",
   "execution_count": 2,
   "metadata": {},
   "outputs": [
    {
     "name": "stdout",
     "output_type": "stream",
     "text": [
      "[1, 8, 16, 9, 2]\n",
      "1\n",
      "8\n",
      "2\n",
      "9\n",
      "[8, 16, 9, 2]\n",
      "[8, 16, 9]\n"
     ]
    }
   ],
   "source": [
    "lst=[1,8,16,9,2] #creating the list object in python\n",
    "print(lst) #access the entire list\n",
    "print(lst[0])#access the first item list\n",
    "print(lst[1])#access the second item list\n",
    "print(lst[-1])#access the last item list \n",
    "print(lst[-2]) \n",
    "print(lst[1:]) \n",
    "print(lst[1:4]) "
   ]
  },
  {
   "cell_type": "code",
   "execution_count": 3,
   "metadata": {},
   "outputs": [
    {
     "name": "stdout",
     "output_type": "stream",
     "text": [
      "['gitam', 'hyderabad', 2019]\n",
      "['gitam', 'hyderabad', 2018]\n"
     ]
    }
   ],
   "source": [
    "#update the list item values using index(direct referencing)\n",
    "li=[\"gitam\",\"hyderabad\",2019]\n",
    "print(li)\n",
    "li[2]=2018\n",
    "print(li)"
   ]
  },
  {
   "cell_type": "code",
   "execution_count": 5,
   "metadata": {},
   "outputs": [
    {
     "name": "stdout",
     "output_type": "stream",
     "text": [
      "['gitam', 'hyerabad', 2019, 2018]\n",
      "['gitam', 'hyerabad', 2019]\n"
     ]
    }
   ],
   "source": [
    "#delete the specific item in the list\n",
    "li=[\"gitam\",\"hyerabad\",2019,2018]\n",
    "print(li)\n",
    "del li[3]\n",
    "print(li)"
   ]
  },
  {
   "cell_type": "code",
   "execution_count": 7,
   "metadata": {},
   "outputs": [
    {
     "name": "stdout",
     "output_type": "stream",
     "text": [
      "5\n",
      "[1, 9, 6, 18, 2, 1, 9, 6, 18, 2]\n",
      "5\n",
      "True\n",
      "False\n",
      "1 9 6 18 2 "
     ]
    }
   ],
   "source": [
    "#basic list operations\n",
    "list1=[1,9,6,18,2]\n",
    "print(len(list1))#len of the list\n",
    "print(list1*2)#repetation\n",
    "print(len(list1))\n",
    "print(9 in list1)#list item is present or not\n",
    "print(15 in list1)\n",
    "for x in range(len(list1)):\n",
    "    print(list1[x],end=\" \")"
   ]
  },
  {
   "cell_type": "code",
   "execution_count": 8,
   "metadata": {},
   "outputs": [
    {
     "name": "stdout",
     "output_type": "stream",
     "text": [
      "1\n",
      "18\n",
      "36\n",
      "7\n",
      "13.5\n"
     ]
    }
   ],
   "source": [
    "#function of the list\n",
    "list1\n",
    "print(min(list1))#min item/element of the list\n",
    "print(max(list1))#max item/e4lement of the list\n",
    "print(sum(list1))#sum of the all elements of the list\n",
    "print(sum(list1)//len(list1))#average of list elements\n",
    "print(sum(list1[1::2])/len(list1[1::2]))#average of all the alternative items"
   ]
  },
  {
   "cell_type": "code",
   "execution_count": 20,
   "metadata": {},
   "outputs": [
    {
     "data": {
      "text/plain": [
       "[45, 32, 45, 32, 24, 24, 24, 18, 18, 18, 18, 18, 9, 1]"
      ]
     },
     "execution_count": 20,
     "metadata": {},
     "output_type": "execute_result"
    }
   ],
   "source": [
    "list1\n",
    "list1.append(24)# adding a new element at the end of the position\n",
    "list1\n",
    "list1.insert(7,18)#adding a element at the particular index\n",
    "list1\n",
    "list1.count(18)#return the value how many items the object is repeated\n",
    "list1.index(18)#returns the index of the object\n",
    "list1.sort()#it's sort the list in ascending order\n",
    "list1\n",
    "list1.pop()#remove the last element from the list\n",
    "list1\n",
    "list1.pop(1)#remove the element from the particular index\n",
    "list2=[123,32,45]\n",
    "list1.extend(list2)#merge the list1 into list2\n",
    "list1.reverse()#reverse the list\n",
    "list1.remove(123)#remove the element from the list\n",
    "list1"
   ]
  },
  {
   "cell_type": "code",
   "execution_count": 21,
   "metadata": {},
   "outputs": [
    {
     "name": "stdout",
     "output_type": "stream",
     "text": [
      "[3, 6]\n",
      "[3]\n"
     ]
    }
   ],
   "source": [
    "li=[1,9,8,2,6,7,3]\n",
    "print(li[-1:2:-2])\n",
    "print(li[-1::1])"
   ]
  },
  {
   "cell_type": "code",
   "execution_count": 25,
   "metadata": {},
   "outputs": [
    {
     "data": {
      "text/plain": [
       "18"
      ]
     },
     "execution_count": 25,
     "metadata": {},
     "output_type": "execute_result"
    }
   ],
   "source": [
    "#function to find the second large item from the list\n",
    "def secondlarge(list2):\n",
    "    list2.sort()\n",
    "    return list2[-2]\n",
    "list2=[1,19,6,2,8,18,3]\n",
    "secondlarge(list2)"
   ]
  },
  {
   "cell_type": "code",
   "execution_count": 26,
   "metadata": {},
   "outputs": [
    {
     "data": {
      "text/plain": [
       "6"
      ]
     },
     "execution_count": 26,
     "metadata": {},
     "output_type": "execute_result"
    }
   ],
   "source": [
    "def secondlarge(list2):\n",
    "    list2.sort()\n",
    "    return list2[-2]\n",
    "def genericlarge(list2,n):\n",
    "    list2.sort()\n",
    "    return list2[-n]\n",
    "list2=[1,19,6,2,8,18,3]\n",
    "genericlarge(list2,4)"
   ]
  },
  {
   "cell_type": "code",
   "execution_count": 28,
   "metadata": {},
   "outputs": [
    {
     "data": {
      "text/plain": [
       "2"
      ]
     },
     "execution_count": 28,
     "metadata": {},
     "output_type": "execute_result"
    }
   ],
   "source": [
    "#function to find the second least from the list\n",
    "def secondleast(list2):\n",
    "    list2.sort()\n",
    "    return list2[1]\n",
    "list2=[1,19,6,2,8,18,3]\n",
    "secondleast(list2)"
   ]
  },
  {
   "cell_type": "code",
   "execution_count": 32,
   "metadata": {},
   "outputs": [
    {
     "data": {
      "text/plain": [
       "6"
      ]
     },
     "execution_count": 32,
     "metadata": {},
     "output_type": "execute_result"
    }
   ],
   "source": [
    "def secondleast(list2):\n",
    "    list2.sort()\n",
    "    return list2[1]\n",
    "def genericleast(list2,n):\n",
    "    list2.sort()\n",
    "    return list2[n-1]\n",
    "list2=[1,19,6,2,8,18,3]\n",
    "genericleast(list2,4)"
   ]
  },
  {
   "cell_type": "code",
   "execution_count": 33,
   "metadata": {},
   "outputs": [
    {
     "data": {
      "text/plain": [
       "-1"
      ]
     },
     "execution_count": 33,
     "metadata": {},
     "output_type": "execute_result"
    }
   ],
   "source": [
    "#function to search the data in the list\n",
    "def linearsearch(li,taritem):\n",
    "    for x in range(len(li)):\n",
    "        if li[x]==taritem:\n",
    "            return x\n",
    "    return -1\n",
    "li=[1,19,6,2,8,18,3]\n",
    "linearsearch(li,225)"
   ]
  },
  {
   "cell_type": "code",
   "execution_count": 36,
   "metadata": {},
   "outputs": [
    {
     "name": "stdout",
     "output_type": "stream",
     "text": [
      "1 4 8 "
     ]
    }
   ],
   "source": [
    "#function\n",
    "def linearsearch2(li,taritem):\n",
    "    for x in range(len(li)):\n",
    "        if li[x]==taritem:\n",
    "            print(x,end=\" \")\n",
    "    return\n",
    "li=[1,5,9,6,5,15,1,2,5]\n",
    "linearsearch2(li,5)"
   ]
  },
  {
   "cell_type": "code",
   "execution_count": 40,
   "metadata": {},
   "outputs": [
    {
     "name": "stdout",
     "output_type": "stream",
     "text": [
      " !    ! ! ! !     ! ! ! ! ! ! ! !  "
     ]
    }
   ],
   "source": [
    "#function\n",
    "#input : list\n",
    "#output : seq of characters\n",
    "#test case\n",
    "#[1,5,9,6,5,15,1,2,5],tar=5\n",
    "def linearsearch(li,tarItem):\n",
    "    for x in range(len(li)):\n",
    "        if li[x]==tarItem:\n",
    "            for i in range(x):\n",
    "                print(\"!\",end=\" \")\n",
    "        print(end=\" \")\n",
    "    return\n",
    "li=[1,5,9,6,5,15,1,2,5]\n",
    "linearsearch(li,5)"
   ]
  },
  {
   "cell_type": "code",
   "execution_count": 41,
   "metadata": {},
   "outputs": [
    {
     "data": {
      "text/plain": [
       "15"
      ]
     },
     "execution_count": 41,
     "metadata": {},
     "output_type": "execute_result"
    }
   ],
   "source": [
    "#a list of item which is perfectly multiple of 3 and 5\n",
    "#find sum of them\n",
    "li=[1,5,9,6,5,15,1,2,5]\n",
    "def sumofmultiples(li):\n",
    "    sum=0\n",
    "    for x in range(len(li)):\n",
    "        if li[x]%3==0 and li[x]%5==0:\n",
    "            sum=sum+li[x]\n",
    "    return sum\n",
    "sumofmultiples(li)"
   ]
  },
  {
   "cell_type": "code",
   "execution_count": 45,
   "metadata": {},
   "outputs": [
    {
     "name": "stdout",
     "output_type": "stream",
     "text": [
      "1 3 8 15 5 "
     ]
    }
   ],
   "source": [
    "def linearsearch4(li):\n",
    "    for x in range(len(li)):\n",
    "        if x==0 or x==len(li)-1:\n",
    "            print(li[x],end=\" \")\n",
    "        else:\n",
    "            print(li[x-1]*li[x+1],end=\" \")\n",
    "    return\n",
    "li=[1,2,3,4,5]\n",
    "linearsearch4(li)"
   ]
  },
  {
   "cell_type": "code",
   "execution_count": 48,
   "metadata": {},
   "outputs": [
    {
     "name": "stdout",
     "output_type": "stream",
     "text": [
      "4 7 5 9 8 "
     ]
    }
   ],
   "source": [
    "#if both side numbers are even then print the number\n",
    "li=[4,7,6,5,2,9,8]\n",
    "def iseven(li):\n",
    "    for x in range(len(li)):\n",
    "        if x==0 or x==len(li)-1:\n",
    "            print(li[x],end=\" \")\n",
    "        elif li[x-1]%2==0 and li[x+1]%2==0:\n",
    "            print(li[x],end=\" \")\n",
    "    return\n",
    "iseven(li)"
   ]
  },
  {
   "cell_type": "code",
   "execution_count": 49,
   "metadata": {},
   "outputs": [
    {
     "name": "stdout",
     "output_type": "stream",
     "text": [
      "1 9 19 22 "
     ]
    }
   ],
   "source": [
    "def linearsearch5(li):\n",
    "    for x in range(len(li)):\n",
    "        if x==0 or x==len(li)-1:\n",
    "            print(li[x],end=\" \")\n",
    "        elif li[x-1]%2==0 and li[x+1]%2==0:\n",
    "            print(li[x],end=\" \")\n",
    "    return\n",
    "li=[1,6,9,4,16,19,22]\n",
    "linearsearch5(li)"
   ]
  },
  {
   "cell_type": "markdown",
   "metadata": {},
   "source": [
    "### number to list\n",
    "~input as number\n",
    "~expected output will be list"
   ]
  },
  {
   "cell_type": "code",
   "execution_count": 55,
   "metadata": {},
   "outputs": [
    {
     "data": {
      "text/plain": [
       "[1, 2, 3, 4, 5, 6]"
      ]
     },
     "execution_count": 55,
     "metadata": {},
     "output_type": "execute_result"
    }
   ],
   "source": [
    "#function for converstion ~ numbers to list\n",
    "def numberlistconverstion(n):\n",
    "    li=[]\n",
    "    while n!=0:\n",
    "        r=n%10\n",
    "        li.append(r)\n",
    "        n=n//10\n",
    "    li.reverse()\n",
    "    return li\n",
    "numberlistconverstion(123456)"
   ]
  },
  {
   "cell_type": "code",
   "execution_count": 64,
   "metadata": {},
   "outputs": [
    {
     "data": {
      "text/plain": [
       "2"
      ]
     },
     "execution_count": 64,
     "metadata": {},
     "output_type": "execute_result"
    }
   ],
   "source": [
    "#function to count the occurances of a character in a string\n",
    "def countcharoccurances(s,c):\n",
    "    cnt=0\n",
    "    for ch in s:\n",
    "        if ch==c:\n",
    "            cnt+=1\n",
    "    return cnt\n",
    "countcharoccurances(\"vaishnavi is a topper\",'v')"
   ]
  },
  {
   "cell_type": "code",
   "execution_count": 65,
   "metadata": {},
   "outputs": [
    {
     "data": {
      "text/plain": [
       "3"
      ]
     },
     "execution_count": 65,
     "metadata": {},
     "output_type": "execute_result"
    }
   ],
   "source": [
    "def countcharoccurances(s,c):\n",
    "    cnt=0\n",
    "    for ch in s:\n",
    "        if ch==c:\n",
    "            cnt+=1\n",
    "    return cnt\n",
    "def countcharoccurances1(s,c):\n",
    "    return s.count(c)\n",
    "countcharoccurances(\"gitam university\",'i')"
   ]
  },
  {
   "cell_type": "markdown",
   "metadata": {},
   "source": [
    "### string to list converstion\n",
    "~input will be string\n",
    "~expected output will be string"
   ]
  },
  {
   "cell_type": "code",
   "execution_count": 66,
   "metadata": {},
   "outputs": [
    {
     "data": {
      "text/plain": [
       "[1, 2, 3, 4, 5, 6]"
      ]
     },
     "execution_count": 66,
     "metadata": {},
     "output_type": "execute_result"
    }
   ],
   "source": [
    "def stringtolist(s):\n",
    "    li=s.split()\n",
    "    numberslist=[]\n",
    "    for i in li:\n",
    "        numberslist.append(int(i))\n",
    "    return numberslist\n",
    "s=\"1 2 3 4 5 6\"\n",
    "stringtolist(s)"
   ]
  },
  {
   "cell_type": "markdown",
   "metadata": {},
   "source": [
    "### sorting algorithm\n",
    "~all the sorting algorithms makes the list into ascending order\n",
    " 1.bubble sort\n",
    " 2.selection sort\n",
    " 3.insertion sort"
   ]
  },
  {
   "cell_type": "code",
   "execution_count": 67,
   "metadata": {},
   "outputs": [
    {
     "data": {
      "text/plain": [
       "[1, 4, 6, 9, 16, 19, 22]"
      ]
     },
     "execution_count": 67,
     "metadata": {},
     "output_type": "execute_result"
    }
   ],
   "source": [
    "def bubblesort(li):\n",
    "    for i in range(len(li)-1):\n",
    "        for j in range(len(li)-1):\n",
    "            if li[j]>li[j+1]:\n",
    "                li[j],li[j+1]=li[j+1],li[j]\n",
    "    return li\n",
    "lil=[19,1,25,6,18,3]\n",
    "bubblesort(li)"
   ]
  }
 ],
 "metadata": {
  "kernelspec": {
   "display_name": "Python 3",
   "language": "python",
   "name": "python3"
  },
  "language_info": {
   "codemirror_mode": {
    "name": "ipython",
    "version": 3
   },
   "file_extension": ".py",
   "mimetype": "text/x-python",
   "name": "python",
   "nbconvert_exporter": "python",
   "pygments_lexer": "ipython3",
   "version": "3.7.3"
  }
 },
 "nbformat": 4,
 "nbformat_minor": 2
}
